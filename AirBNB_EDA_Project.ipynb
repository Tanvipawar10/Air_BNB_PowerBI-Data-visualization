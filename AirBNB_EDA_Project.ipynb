{
  "nbformat": 4,
  "nbformat_minor": 0,
  "metadata": {
    "colab": {
      "private_outputs": true,
      "provenance": [],
      "collapsed_sections": [
        "w6K7xa23Elo4",
        "lQ7QKXXCp7Bj",
        "448CDAPjqfQr",
        "KSlN3yHqYklG",
        "t6dVpIINYklI",
        "ijmpgYnKYklI",
        "-JiQyfWJYklI",
        "EM7whBJCYoAo",
        "fge-S5ZAYoAp",
        "85gYPyotYoAp",
        "RoGjAbkUYoAp",
        "4Of9eVA-YrdM",
        "iky9q4vBYrdO",
        "F6T5p64dYrdO",
        "y-Ehk30pYrdP",
        "bamQiAODYuh1",
        "QHF8YVU7Yuh3",
        "GwzvFGzlYuh3",
        "qYpmQ266Yuh3",
        "OH-pJp9IphqM",
        "bbFf2-_FphqN",
        "_ouA3fa0phqN",
        "Seke61FWphqN",
        "PIIx-8_IphqN",
        "t27r6nlMphqO",
        "r2jJGEOYphqO",
        "b0JNsNcRphqO",
        "BZR9WyysphqO",
        "jj7wYXLtphqO",
        "eZrbJ2SmphqO",
        "rFu4xreNphqO",
        "YJ55k-q6phqO",
        "gCFgpxoyphqP",
        "OVtJsKN_phqQ",
        "lssrdh5qphqQ",
        "U2RJ9gkRphqQ",
        "1M8mcRywphqQ",
        "tgIPom80phqQ",
        "JMzcOPDDphqR",
        "x-EpHcCOp1ci",
        "X_VqEhTip1ck",
        "8zGJKyg5p1ck",
        "PVzmfK_Ep1ck",
        "n3dbpmDWp1ck",
        "ylSl6qgtp1ck",
        "ZWILFDl5p1ck",
        "M7G43BXep1ck",
        "Ag9LCva-p1cl",
        "E6MkPsBcp1cl",
        "2cELzS2fp1cl",
        "3MPXvC8up1cl",
        "NC_X3p0fY2L0",
        "UV0SzAkaZNRQ",
        "YPEH6qLeZNRQ",
        "EXh0U9oCveiU",
        "22aHeOlLveiV",
        "8G2x9gOozGDZ",
        "gCX9965dhzqZ",
        "gIfDvo9L0UH2"
      ],
      "cell_execution_strategy": "setup"
    },
    "kernelspec": {
      "name": "python3",
      "display_name": "Python 3"
    },
    "language_info": {
      "name": "python"
    }
  },
  "cells": [
    {
      "cell_type": "markdown",
      "source": [
        "# **Project Name**    -\n",
        "\n"
      ],
      "metadata": {
        "id": "vncDsAP0Gaoa"
      }
    },
    {
      "cell_type": "markdown",
      "source": [
        "##### **Project Type**    - EDA with python, Power BI\n",
        "##### **Contribution**    - Individual\n",
        "##### **Name**  - Tanvi Pawar\n"
      ],
      "metadata": {
        "id": "beRrZCGUAJYm"
      }
    },
    {
      "cell_type": "markdown",
      "source": [
        "# **Project Summary -**"
      ],
      "metadata": {
        "id": "FJNUwmbgGyua"
      }
    },
    {
      "cell_type": "markdown",
      "source": [
        "For this EDA project, we have chosen the \"Airbnb Listings Data\" dataset from two major cities: Chicago and New Orleans. This dataset provides a comprehensive snapshot of various attributes related to Airbnb listings, such as property type, neighborhood, pricing, availability, and more. The dataset is ideal for conducting an in-depth exploration of the local Airbnb market and deriving actionable insights.\n",
        "\n",
        "**Steps to Proceed with the Dashboard**\n",
        "\n",
        "**Data Cleaning**\n",
        "Begin by addressing the disorder and inconsistency within the dataset. Utilized Google Colab Notebook and Power BI to systematically cleanse the data, rectify discrepancies, eliminate duplicates, and standardize formats.\n",
        "\n",
        "**Data Transformation**\n",
        "Generate supplementary columns by leveraging pre-existing categorical data. These columns were derived from extensive descriptive text, which, in its original form, was arduous to comprehend and unsuitable for visualization purposes. The additional columns provided a much clearer perspective, enabling the creation of effective visualizations.\n",
        "\n",
        "**Power BI**\n",
        "Employ Power BI's data preparation features to resolve inconsistencies. For instance, under the \"Neighborhood\" column, identical entities were variably represented due to disparities in letter casing, spelling variations, or phonetic similarity. Power BI’s built-in transformation tools, such as \"Replace Values\" and other data cleaning features, were instrumental in standardizing the data for analysis and visualization."
      ],
      "metadata": {
        "id": "F6v_1wHtG2nS"
      }
    },
    {
      "cell_type": "markdown",
      "source": [
        "# **GitHub Link -**"
      ],
      "metadata": {
        "id": "w6K7xa23Elo4"
      }
    },
    {
      "cell_type": "markdown",
      "source": [
        "https://github.com/Tanvipawar10/Air_BNB_PowerBI-Data-visualization"
      ],
      "metadata": {
        "id": "h1o69JH3Eqqn"
      }
    },
    {
      "cell_type": "markdown",
      "source": [
        "# **Problem Statement**\n"
      ],
      "metadata": {
        "id": "yQaldy8SH6Dl"
      }
    },
    {
      "cell_type": "markdown",
      "source": [
        "The operations of Airbnb vary significantly across different urban environments due to diverse demographic, economic, and cultural factors. This project aims to conduct a comprehensive comparative examination of Airbnb's presence in two major cities, Chicago and New Orleans, using Python for data exploration and analysis, and Power BI for advanced data cleaning, transformation, and visualization.\n",
        "\n",
        "The objective is to uncover shared attributes, key disparities, and unique patterns in the Airbnb market between these cities. By leveraging Power BI's robust data modeling and visual analytics capabilities, the study seeks to present actionable insights and highlight trends in property types, pricing strategies, neighborhood dynamics, and availability. This will provide a deeper understanding of the factors shaping Airbnb's operations in these distinct urban landscapes."
      ],
      "metadata": {
        "id": "DpeJGUA3kjGy"
      }
    },
    {
      "cell_type": "markdown",
      "source": [],
      "metadata": {
        "id": "PhDvGCAqmjP1"
      }
    },
    {
      "cell_type": "markdown",
      "source": [
        "# **General Guidelines** : -  "
      ],
      "metadata": {
        "id": "mDgbUHAGgjLW"
      }
    },
    {
      "cell_type": "markdown",
      "source": [],
      "metadata": {
        "id": "_CnR_klWqMqi"
      }
    },
    {
      "cell_type": "markdown",
      "source": [
        "1.   Well-structured, formatted, and commented code is required.\n",
        "2.   Exception Handling, Production Grade Code & Deployment Ready Code will be a plus. Those students will be awarded some additional credits.\n",
        "     \n",
        "     The additional credits will have advantages over other students during Star Student selection.\n",
        "       \n",
        "             [ Note: - Deployment Ready Code is defined as, the whole .ipynb notebook should be executable in one go\n",
        "                       without a single error logged. ]\n",
        "\n",
        "3.   Each and every logic should have proper comments.\n",
        "4. You may add as many number of charts you want. Make Sure for each and every chart the following format should be answered.\n",
        "        \n",
        "\n",
        "```\n",
        "# Chart visualization code\n",
        "```\n",
        "            \n",
        "\n",
        "*   Why did you pick the specific chart?\n",
        "*   What is/are the insight(s) found from the chart?\n",
        "* Will the gained insights help creating a positive business impact?\n",
        "Are there any insights that lead to negative growth? Justify with specific reason.\n",
        "\n",
        "5. You have to create at least 20 logical & meaningful charts having important insights.\n",
        "\n",
        "\n",
        "[ Hints : - Do the Vizualization in  a structured way while following \"UBM\" Rule.\n",
        "\n",
        "U - Univariate Analysis,\n",
        "\n",
        "B - Bivariate Analysis (Numerical - Categorical, Numerical - Numerical, Categorical - Categorical)\n",
        "\n",
        "M - Multivariate Analysis\n",
        " ]\n",
        "\n",
        "\n",
        "\n"
      ],
      "metadata": {
        "id": "ZrxVaUj-hHfC"
      }
    },
    {
      "cell_type": "markdown",
      "source": [
        "# ***Let's Begin !***"
      ],
      "metadata": {
        "id": "O_i_v8NEhb9l"
      }
    },
    {
      "cell_type": "markdown",
      "source": [
        "## ***1. Know Your Data***"
      ],
      "metadata": {
        "id": "HhfV-JJviCcP"
      }
    },
    {
      "cell_type": "markdown",
      "source": [
        "### Import Libraries"
      ],
      "metadata": {
        "id": "Y3lxredqlCYt"
      }
    },
    {
      "cell_type": "code",
      "source": [
        "# Import Libraries\n",
        "import pandas as pd\n",
        "import numpy as np\n",
        "from google.colab import drive\n",
        "import matplotlib.pyplot as plt\n",
        "import seaborn as sns"
      ],
      "metadata": {
        "id": "M8Vqi-pPk-HR"
      },
      "execution_count": null,
      "outputs": []
    },
    {
      "cell_type": "markdown",
      "source": [
        "### Dataset Loading"
      ],
      "metadata": {
        "id": "3RnN4peoiCZX"
      }
    },
    {
      "cell_type": "code",
      "source": [
        "# Load Dataset\n",
        "#Loading the repository files from the github to collab.\n",
        "!git clone https://github.com/Tanvipawar10/Air_BNB_PowerBI-Data-visualization.git"
      ],
      "metadata": {
        "id": "myid7QeN5qT3"
      },
      "execution_count": null,
      "outputs": []
    },
    {
      "cell_type": "code",
      "source": [
        "# Giving a path to the files\n",
        "Chicago_listings_path = \"/content/Air_BNB_PowerBI-Data-visualization/Chicago listing.csv\"\n",
        "New_Orleans_listings_path =  \"/content/Air_BNB_PowerBI-Data-visualization/New orleans listing.csv\""
      ],
      "metadata": {
        "id": "4CkvbW_SlZ_R"
      },
      "execution_count": null,
      "outputs": []
    },
    {
      "cell_type": "code",
      "source": [
        "#Load dataset from the loaded repositary files\n",
        "Chicago_listing = pd.read_csv(Chicago_listings_path)\n",
        "New_orleans_listing = pd.read_csv(New_Orleans_listings_path)"
      ],
      "metadata": {
        "id": "SCmaw3gUfDGj"
      },
      "execution_count": null,
      "outputs": []
    },
    {
      "cell_type": "markdown",
      "source": [
        "### Dataset First View"
      ],
      "metadata": {
        "id": "x71ZqKXriCWQ"
      }
    },
    {
      "cell_type": "code",
      "source": [
        "# Dataset First Look\n",
        "New_orleans_listing.head()"
      ],
      "metadata": {
        "id": "LWNFOSvLl09H",
        "collapsed": true
      },
      "execution_count": null,
      "outputs": []
    },
    {
      "cell_type": "code",
      "source": [
        "Chicago_listing.head()"
      ],
      "metadata": {
        "collapsed": true,
        "id": "entf4SVz2QtV"
      },
      "execution_count": null,
      "outputs": []
    },
    {
      "cell_type": "markdown",
      "source": [
        "### Dataset Rows & Columns count"
      ],
      "metadata": {
        "id": "7hBIi_osiCS2"
      }
    },
    {
      "cell_type": "code",
      "source": [
        "# Dataset Rows & Columns count\n",
        "New_orleans_listing.shape\n"
      ],
      "metadata": {
        "id": "Kllu7SJgmLij"
      },
      "execution_count": null,
      "outputs": []
    },
    {
      "cell_type": "code",
      "source": [
        "Chicago_listing.shape"
      ],
      "metadata": {
        "id": "eJ2qqeD62thm"
      },
      "execution_count": null,
      "outputs": []
    },
    {
      "cell_type": "markdown",
      "source": [
        "### Dataset Information"
      ],
      "metadata": {
        "id": "JlHwYmJAmNHm"
      }
    },
    {
      "cell_type": "code",
      "source": [
        "# Dataset Info\n",
        "New_orleans_listing.info()"
      ],
      "metadata": {
        "id": "e9hRXRi6meOf"
      },
      "execution_count": null,
      "outputs": []
    },
    {
      "cell_type": "code",
      "source": [
        "Chicago_listing.info()"
      ],
      "metadata": {
        "id": "eGQUIKTt3TUZ"
      },
      "execution_count": null,
      "outputs": []
    },
    {
      "cell_type": "markdown",
      "source": [
        "#### Duplicate Values"
      ],
      "metadata": {
        "id": "35m5QtbWiB9F"
      }
    },
    {
      "cell_type": "code",
      "source": [
        "# Dataset Duplicate Value Count\n",
        "print(\"Number of duplicate rows in New orleans:\" , New_orleans_listing.duplicated().sum())\n",
        "\n",
        "New_orleans_listing.drop_duplicates(inplace=True)"
      ],
      "metadata": {
        "id": "1sLdpKYkmox0"
      },
      "execution_count": null,
      "outputs": []
    },
    {
      "cell_type": "code",
      "source": [
        "print(\"Number of duplicate rows in Chicago:\" , Chicago_listing.duplicated().sum())\n",
        "\n",
        "Chicago_listing.drop_duplicates(inplace=True)"
      ],
      "metadata": {
        "id": "bjndSO-54VI0"
      },
      "execution_count": null,
      "outputs": []
    },
    {
      "cell_type": "markdown",
      "source": [
        "#### Missing Values/Null Values"
      ],
      "metadata": {
        "id": "PoPl-ycgm1ru"
      }
    },
    {
      "cell_type": "code",
      "source": [
        "# Missing Values/Null Values Count\n",
        "New_orleans_listing.isnull().sum()"
      ],
      "metadata": {
        "id": "GgHWkxvamxVg"
      },
      "execution_count": null,
      "outputs": []
    },
    {
      "cell_type": "code",
      "source": [
        "Chicago_listing.isnull().sum()"
      ],
      "metadata": {
        "id": "3q5wnI3om9sJ"
      },
      "execution_count": null,
      "outputs": []
    },
    {
      "cell_type": "code",
      "source": [
        "# Visualizing the missing values\n",
        "sns.heatmap(New_orleans_listing.isnull() , cbar=False , cmap='viridis')\n",
        "plt.title(\"Visualizing missing values\")\n",
        "plt.show()"
      ],
      "metadata": {
        "id": "fj3ANya45mfQ"
      },
      "execution_count": null,
      "outputs": []
    },
    {
      "cell_type": "code",
      "source": [
        "sns.heatmap(Chicago_listing.isnull() , cbar=False , cmap='viridis')\n",
        "plt.title(\"Visualizing missing values\")\n",
        "plt.show()"
      ],
      "metadata": {
        "id": "qWdshVI38KPV"
      },
      "execution_count": null,
      "outputs": []
    },
    {
      "cell_type": "markdown",
      "source": [
        "### What did you know about your dataset?"
      ],
      "metadata": {
        "id": "H0kj-8xxnORC"
      }
    },
    {
      "cell_type": "markdown",
      "source": [
        "The Airbnb Listings Data contains information about different properties available for rent on Airbnb in a specific city. Each record represents a unique listing and includes attributes such as property type, neighbourhood, number of bedrooms, pricing, availability, host information, and more.\n",
        "\n",
        "There are no duplicate rows in our dataset.\n",
        "\n",
        "The last_review and reviews_per_month column may have null values because of 0 number_of_reviews for that listing, hence the listing having 0 reviews don't have last review or reviews per month value.\n",
        "\n",
        "Last_review was in object datatype, while should be in datetime dtype."
      ],
      "metadata": {
        "id": "gfoNAAC-nUe_"
      }
    },
    {
      "cell_type": "markdown",
      "source": [
        "## ***2. Understanding Your Variables***"
      ],
      "metadata": {
        "id": "nA9Y7ga8ng1Z"
      }
    },
    {
      "cell_type": "code",
      "source": [
        "# New orleans Columns\n",
        "New_orleans_listing.columns"
      ],
      "metadata": {
        "id": "j7xfkqrt5Ag5"
      },
      "execution_count": null,
      "outputs": []
    },
    {
      "cell_type": "code",
      "source": [
        "# Chicago Columns\n",
        "Chicago_listing.columns"
      ],
      "metadata": {
        "id": "HEpg_Llq8cBb"
      },
      "execution_count": null,
      "outputs": []
    },
    {
      "cell_type": "code",
      "source": [
        "# New orleans Describe\n",
        "New_orleans_listing.describe()"
      ],
      "metadata": {
        "id": "DnOaZdaE5Q5t"
      },
      "execution_count": null,
      "outputs": []
    },
    {
      "cell_type": "code",
      "source": [
        "# Chicago Describe\n",
        "Chicago_listing.describe()"
      ],
      "metadata": {
        "id": "VPjq-ws48g1k"
      },
      "execution_count": null,
      "outputs": []
    },
    {
      "cell_type": "markdown",
      "source": [
        "### Variables Description"
      ],
      "metadata": {
        "id": "PBTbrJXOngz2"
      }
    },
    {
      "cell_type": "markdown",
      "source": [
        "Key Attributes:\n",
        "\n",
        "id: Unique identifier for each listing.\n",
        "\n",
        "name: The title or name of the listing.\n",
        "\n",
        "host_id: Unique identifier for the host of the property.\n",
        "\n",
        "host_name: Name of the host.\n",
        "\n",
        "neighbourhood_group: The broader area or group that the neighbourhood belongs to.\n",
        "\n",
        "neighbourhood: Specific neighbourhood where the property is located.\n",
        "\n",
        "latitude: Latitude coordinate of the property.\n",
        "\n",
        "longitude: Longitude coordinate of the property.\n",
        "\n",
        "room_type: Type of room (e.g., Private room, Entire home/apt, Shared room).\n",
        "\n",
        "price: Price of the listing per night.\n",
        "\n",
        "minimum_nights: Minimum number of nights required for booking.\n",
        "\n",
        "number_of_reviews: Total number of reviews received for the listing.\n",
        "\n",
        "last_review: Date of the last review.\n",
        "\n",
        "reviews_per_month: Average number of reviews per month.\n",
        "\n",
        "availability_365: Number of days the listing is available for booking in a year."
      ],
      "metadata": {
        "id": "aJV4KIxSnxay"
      }
    },
    {
      "cell_type": "markdown",
      "source": [
        "### Check Unique Values for each variable."
      ],
      "metadata": {
        "id": "u3PMJOP6ngxN"
      }
    },
    {
      "cell_type": "code",
      "source": [
        "# Check Unique Values for each variable.\n",
        "unique_counts_New_orleans = New_orleans_listing.nunique()\n",
        "print(unique_counts_New_orleans)"
      ],
      "metadata": {
        "id": "zms12Yq5n-jE"
      },
      "execution_count": null,
      "outputs": []
    },
    {
      "cell_type": "code",
      "source": [
        "unique_counts_Chicago = Chicago_listing.nunique()\n",
        "print(unique_counts_Chicago)"
      ],
      "metadata": {
        "id": "Iq9JJuaC9ORw"
      },
      "execution_count": null,
      "outputs": []
    },
    {
      "cell_type": "markdown",
      "source": [
        "## 3. ***Data Wrangling***"
      ],
      "metadata": {
        "id": "dauF4eBmngu3"
      }
    },
    {
      "cell_type": "markdown",
      "source": [
        "### Data Wrangling Code"
      ],
      "metadata": {
        "id": "bKJF3rekwFvQ"
      }
    },
    {
      "cell_type": "code",
      "source": [
        "# Appending the dataset vertically\n",
        "Both_listings = pd.concat([New_orleans_listing, Chicago_listing], axis=0 , ignore_index=True)"
      ],
      "metadata": {
        "id": "wk-9a2fpoLcV"
      },
      "execution_count": null,
      "outputs": []
    },
    {
      "cell_type": "code",
      "source": [
        "# Appending the dataset resulting in increase of rows\n",
        "Both_listings.shape"
      ],
      "metadata": {
        "id": "yi4w0vcMIdjU"
      },
      "execution_count": null,
      "outputs": []
    },
    {
      "cell_type": "code",
      "source": [
        "# Any duplicate id values are not present in the dataset after merging\n",
        "Both_listings[\"id\"].duplicated().sum()"
      ],
      "metadata": {
        "id": "ZTlHiy7EIo7q"
      },
      "execution_count": null,
      "outputs": []
    },
    {
      "cell_type": "code",
      "source": [
        "# Total null values in the dataset\n",
        "Both_listings.isnull().sum()"
      ],
      "metadata": {
        "id": "RE-fZ_FRI90_"
      },
      "execution_count": null,
      "outputs": []
    },
    {
      "cell_type": "code",
      "source": [
        "# Dropped the unnecessary columns\n",
        "Both_listings.drop([\"neighbourhood_group\",\"number_of_reviews_ltm\",\"license\"], axis=1 , inplace=True)"
      ],
      "metadata": {
        "id": "xSjlDnt6PF3j"
      },
      "execution_count": null,
      "outputs": []
    },
    {
      "cell_type": "code",
      "source": [
        "# Removing Null values in Price column\n",
        "Both_listings.dropna(subset=[\"price\"], axis= 0 , inplace = True)"
      ],
      "metadata": {
        "id": "f_AVMxWxPF7p"
      },
      "execution_count": null,
      "outputs": []
    },
    {
      "cell_type": "code",
      "source": [
        "# Updated null values count\n",
        "Both_listings.isnull().sum()"
      ],
      "metadata": {
        "id": "wj2NyHSWQUlV"
      },
      "execution_count": null,
      "outputs": []
    },
    {
      "cell_type": "code",
      "source": [
        "# The listings having 0 reviews on AirBNB\n",
        "# number_of_reviews = 0, be the reason behind null values in last_review and reviews_per_month column.\n",
        "zero_reviews_listing = Both_listings[Both_listings[\"number_of_reviews\"]==0][[\"number_of_reviews\"]].count()\n",
        "print(zero_reviews_listing)"
      ],
      "metadata": {
        "id": "mqPqR9JdRFSr"
      },
      "execution_count": null,
      "outputs": []
    },
    {
      "cell_type": "code",
      "source": [
        "# Replacing null values that are in column last_review and reviews_per_month column\n",
        "Both_listings.fillna(0, inplace=True)"
      ],
      "metadata": {
        "id": "fBTEAqXLRFXg"
      },
      "execution_count": null,
      "outputs": []
    },
    {
      "cell_type": "code",
      "source": [
        "# Updated dataset null values\n",
        "Both_listings.isnull().sum()"
      ],
      "metadata": {
        "id": "iajxJexSRFbi"
      },
      "execution_count": null,
      "outputs": []
    },
    {
      "cell_type": "code",
      "source": [
        "# Updated Dataset Shape\n",
        "Both_listings.shape"
      ],
      "metadata": {
        "id": "GdCPPY8rSMJn"
      },
      "execution_count": null,
      "outputs": []
    },
    {
      "cell_type": "code",
      "source": [
        "# Save the DataFrame to a CSV file, excluding the index values\n",
        "Both_listings.to_csv('AirBNB_PowerBI_Prep.csv', index= False)"
      ],
      "metadata": {
        "id": "K0RBrbLaSMUw"
      },
      "execution_count": null,
      "outputs": []
    },
    {
      "cell_type": "markdown",
      "source": [
        "### What all manipulations have you done and insights you found?"
      ],
      "metadata": {
        "id": "MSa1f5Uengrz"
      }
    },
    {
      "cell_type": "markdown",
      "source": [
        "The datasets from Chicago and New Orleans have been appended together.\n",
        "Some columns have been removed from the dataset to focus on relevant attributes.\n",
        "Null values present in the name and price columns have been removed.\n",
        "Null values in the last_review and reviews_per_month columns have been replaced with zero.\n",
        "The appended dataset has been saved as AirBNB_PowerBI_Prep.csv and is ready for transformation and analysis in Power BI.\n"
      ],
      "metadata": {
        "id": "LbyXE7I1olp8"
      }
    },
    {
      "cell_type": "markdown",
      "source": [
        "\n",
        "\n",
        "```\n",
        "# This is formatted as code\n",
        "```\n",
        "\n",
        "## **5. Solution to Business Objective**"
      ],
      "metadata": {
        "id": "JcMwzZxoAimU"
      }
    },
    {
      "cell_type": "markdown",
      "source": [
        "What do you suggest the client to achieve Business Objective ?\n",
        "\n",
        "Explain Briefly."
      ],
      "metadata": {
        "id": "8G2x9gOozGDZ"
      }
    },
    {
      "cell_type": "markdown",
      "source": [
        "To help the client improve Airbnb operations in Chicago and New Orleans, here are some simple and effective suggestions:\n",
        "\n",
        "Adjust Pricing Smartly: Use data to set prices based on demand. Charge higher prices in popular neighborhoods or during busy seasons and offer discounts when demand is low.\n",
        "\n",
        "Focus on Popular Property Types: Find out which types of properties (like apartments or houses) are most in demand and encourage hosts to offer more of those.\n",
        "\n",
        "Target High-Demand Areas: Concentrate on neighborhoods that attract the most visitors. Promote listings in these areas to increase bookings.\n",
        "\n",
        "Improve Listings: Suggest hosts add better photos, detailed descriptions, and popular amenities to make their properties more attractive to customers.\n",
        "\n",
        "Pay Attention to Reviews: Use customer reviews to find areas to improve, like cleanliness or communication. Satisfied guests are more likely to leave good reviews and book again.\n",
        "\n",
        "Plan for Seasonal Demand: Look at booking trends during different times of the year and run special promotions during festivals or events in each city to attract more guests.\n",
        "\n",
        "Stay Flexible: Keep an eye on market trends and update strategies as needed. Use Power BI dashboards to track important data and make quick decisions.\n",
        "\n",
        "These simple steps will help the client attract more customers, improve operations, and grow their Airbnb business in both cities."
      ],
      "metadata": {
        "id": "pASKb0qOza21"
      }
    },
    {
      "cell_type": "markdown",
      "source": [
        "# **Conclusion**"
      ],
      "metadata": {
        "id": "gCX9965dhzqZ"
      }
    },
    {
      "cell_type": "markdown",
      "source": [
        "By carefully analyzing Airbnb data from Chicago and New Orleans, we gained valuable insights into how the market works in these two cities. The data showed us patterns in pricing, property types, customer preferences, and neighborhood popularity. Using Power BI helped us clean, transform, and visualize the data effectively, making it easier to understand these trends.\n",
        "\n",
        "With these insights, the client can focus on improving listings, targeting popular neighborhoods, adjusting prices, and meeting customer needs better. These steps will help attract more guests, increase bookings, and grow their Airbnb presence in both cities."
      ],
      "metadata": {
        "id": "Fjb1IsQkh3yE"
      }
    },
    {
      "cell_type": "markdown",
      "source": [
        "### ***Hurrah! You have successfully completed your EDA Capstone Project !!!***"
      ],
      "metadata": {
        "id": "gIfDvo9L0UH2"
      }
    }
  ]
}